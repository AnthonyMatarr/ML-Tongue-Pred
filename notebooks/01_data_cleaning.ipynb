{
 "cells": [
  {
   "cell_type": "markdown",
   "id": "742f6f36",
   "metadata": {},
   "source": [
    "# Data Cleaning"
   ]
  },
  {
   "cell_type": "code",
   "execution_count": 11,
   "id": "77b678d4",
   "metadata": {},
   "outputs": [],
   "source": [
    "import sys\n",
    "\n",
    "sys.path.append(\"../\")\n",
    "from src.data_utils import get_feature_lists\n",
    "from src.config import BASE_PATH\n",
    "\n",
    "import pandas as pd\n",
    "import numpy as np\n",
    "\n",
    "df_import = pd.read_excel(\n",
    "    BASE_PATH / \"data\" / \"processed\" / \"CPT_ICD_Extracted_Cleaned.xlsx\", index_col=0\n",
    ")"
   ]
  },
  {
   "cell_type": "markdown",
   "id": "53fb662c",
   "metadata": {},
   "source": [
    "## Data prep"
   ]
  },
  {
   "cell_type": "code",
   "execution_count": null,
   "id": "ae4b58d5",
   "metadata": {},
   "outputs": [],
   "source": [
    "### Drop CPT/ICD columns ###\n",
    "drop_cols = [\n",
    "    \"CaseID\",\n",
    "    # CPT\n",
    "    \"CPT\",\n",
    "    \"OTHERCPT1\",\n",
    "    \"OTHERCPT2\",\n",
    "    \"OTHERCPT3\",\n",
    "    \"OTHERCPT4\",\n",
    "    \"OTHERCPT5\",\n",
    "    \"OTHERCPT6\",\n",
    "    \"OTHERCPT7\",\n",
    "    \"OTHERCPT8\",\n",
    "    \"OTHERCPT9\",\n",
    "    \"OTHERCPT10\",\n",
    "    \"CONCPT1\",\n",
    "    \"CONCPT2\",\n",
    "    \"CONCPT3\",\n",
    "    \"CONCPT4\",\n",
    "    \"CONCPT5\",\n",
    "    \"CONCPT6\",\n",
    "    \"CONCPT7\",\n",
    "    \"CONCPT8\",\n",
    "    \"CONCPT9\",\n",
    "    \"CONCPT10\",\n",
    "    \"REOPORCPT1\",\n",
    "    # Podiag/ICD\n",
    "    \"PODIAG\",\n",
    "    \"PODIAG10\",\n",
    "    \"REOPOR1ICD91\",\n",
    "    \"REOPOR1ICD101\",\n",
    "    \"AdmYR\",\n",
    "    \"SURGSPEC\",\n",
    "    \"ANESTHES\",\n",
    "]\n",
    "\n",
    "df_sub = df_import.drop(columns=drop_cols, axis=1)\n",
    "print(f\"Shape: {df_sub.shape}\")\n",
    "print(\"NAs:\")\n",
    "# for col in df_sub.columns:\n",
    "#     num_na = df_sub[col].isna().sum()\n",
    "#     if num_na > 0:\n",
    "#         print(col)\n",
    "#         print(num_na)"
   ]
  },
  {
   "cell_type": "markdown",
   "id": "bfbd9627",
   "metadata": {},
   "source": [
    "Fill NAs\n",
    "\n",
    "CRITERIA: if feature present for all years, NA-->NO; otherwise NA-->UNKNOWN\n"
   ]
  },
  {
   "cell_type": "code",
   "execution_count": null,
   "id": "cfeeb262",
   "metadata": {},
   "outputs": [],
   "source": [
    "### Fill NAs ###\n",
    "# CRITERIA: if available all years--> NO otherwise UNKNOWN\n",
    "fill_na_dict = {\n",
    "    \"RACE_NEW\": \"Unknown\",\n",
    "    \"ETHNICITY_HISPANIC\": \"No_Unknown\",\n",
    "    \"DISCHDEST\": \"Unknown\",\n",
    "    \"ELECTSURG\": \"Unknown\",\n",
    "    \"DYSPNEA\": \"Unknown\",\n",
    "    \"RENAFAIL\": \"No\",\n",
    "    \"WNDINF\": \"Unknown\",\n",
    "    \"WTLOSS\": \"Unknown\",\n",
    "    \"PRSEPIS\": \"No\",\n",
    "    \"RENAINSF\": \"No Complication\",\n",
    "    \"READMISSION1\": \"No\",\n",
    "    \"UNPLANNEDREADMISSION1\": \"No\",\n",
    "}\n",
    "df_sub.fillna(fill_na_dict, inplace=True)\n",
    "##Ensure no more NA\n",
    "assert df_sub.isna().sum().sum() == 0"
   ]
  },
  {
   "cell_type": "markdown",
   "id": "3f601dc5",
   "metadata": {},
   "source": [
    "## Clean Categorical Features"
   ]
  },
  {
   "cell_type": "markdown",
   "id": "d982a014",
   "metadata": {},
   "source": [
    "Normalize feature instance names\n"
   ]
  },
  {
   "cell_type": "code",
   "execution_count": null,
   "id": "f6471ec4",
   "metadata": {},
   "outputs": [],
   "source": [
    "replace_dict = {\n",
    "    \"SEX\": {\"non-bi\": \"non-binary\"},\n",
    "    \"RACE_NEW\": {\n",
    "        \"Unknown/Not Reported\": \"Unknown_Other\",\n",
    "        \"Unknown\": \"Unknown_Other\",\n",
    "        \"Some Other Race\": \"Unknown_Other\",\n",
    "        \"Native Hawaiian or Other Pacific Islander\": \"Unknown_Other\",\n",
    "        \"American Indian or Alaska\": \"Unknown_Other\",\n",
    "        \"Native Hawaiian or Pacifi\": \"Unknown_Other\",\n",
    "        \"American Indian or Alaska Native\": \"Unknown_Other\",\n",
    "        \"White,Black or African American\": \"Unknown_Other\",\n",
    "        \"Native Hawaiian or Other Pacific Islander,Asian\": \"Unknown_Other\",\n",
    "        \"Asian,Some Other Race\": \"Unknown_Other\",\n",
    "        \"Native Hawaiian or Pacific Islander\": \"Unknown_Other\",\n",
    "        \"American Indian or Alaskan Native\": \"Unknown_Other\",\n",
    "    },\n",
    "    \"ETHNICITY_HISPANIC\": {\n",
    "        \"N\": \"No_Unknown\",\n",
    "        \"No\": \"No_Unknown\",\n",
    "        \"U\": \"No_Unknown\",\n",
    "        \"Unknown\": \"No_Unknown\",\n",
    "        \"Unk\": \"No_Unknown\",\n",
    "        \"Y\": \"Yes\",\n",
    "    },\n",
    "    \"INOUT\": {\"Inpatient\": \"Yes\", \"Outpatient\": \"No\"},\n",
    "    \"DISCHDEST\": {\n",
    "        \"Home\": \"Home_Permanent Residence\",\n",
    "        \"Unknown\": \"Unknown_Other Facility\",\n",
    "        \"Facility Which was Home\": \"Home_Permanent Residence\",\n",
    "        \"Separate Acute Care\": \"Acute Care\",\n",
    "        \"Acute Care Hospital\": \"Acute Care\",\n",
    "        \"Unskilled Facility Not Home\": \"Unknown_Other Facility\",\n",
    "        \"Hospice\": \"Unknown_Other Facility\",\n",
    "        \"Other Facility\": \"Unknown_Other Facility\",\n",
    "        \"Against Medical Advice (AMA)\": \"Unknown_Other Facility\",\n",
    "    },\n",
    "    \"ELECTSURG\": {\n",
    "        \"Yes\": \"Elective\",\n",
    "        \"No\": \"Urgent_Emergent\",\n",
    "        \"Urgent\": \"Urgent_Emergent\",\n",
    "        \"Emergent\": \"Urgent_Emergent\",\n",
    "        \"Unk\": \"Unknown\",\n",
    "    },\n",
    "    \"DIABETES\": {\n",
    "        \"NO\": \"No\",\n",
    "        \"NON-INSULIN\": \"Yes\",\n",
    "        \"INSULIN\": \"Yes\",\n",
    "        \"ORAL\": \"Yes\",\n",
    "    },\n",
    "    \"DYSPNEA\": {\n",
    "        \"Unknown\": \"Unknown_Other\",\n",
    "        \"MODERATE EXERTION\": \"Yes\",\n",
    "        \"AT REST\": \"Yes\",\n",
    "    },\n",
    "    \"FNSTATUS2\": {\n",
    "        \"Unknown\": \"Other_Unknown\",\n",
    "        \"Partially Dependent\": \"Dependent\",\n",
    "        \"Partially D\": \"Dependent\",\n",
    "        \"Totally Dependent\": \"Dependent\",\n",
    "        \"Totally Dep\": \"Dependent\",\n",
    "    },\n",
    "    \"DIALYSIS\": {\"Ye\": \"Yes\"},\n",
    "    \"WNDINF\": {0: \"No\", 1: \"Yes\"},\n",
    "    \"WTLOSS\": {\"Unknown\": \"Unknown_Other\"},\n",
    "    \"PRSEPIS\": {\"SIRS\": \"Yes\", \"Sepsis\": \"Yes\"},\n",
    "    \"SUPINFEC\": {\"No Complication\": \"No\", \"Superficial Incisional SSI\": \"Yes\"},\n",
    "    \"WNDINFD\": {\"No Complication\": \"No\", \"Deep Incisional SSI\": \"Yes\"},\n",
    "    \"ORGSPCSSI\": {\"No Complication\": \"No\", \"Organ/Space SSI\": \"Yes\"},\n",
    "    \"DEHIS\": {\"No Complication\": \"No\", \"Wound Disruption\": \"Yes\"},\n",
    "    \"OUPNEUMO\": {\"No Complication\": \"No\", \"Pneumonia\": \"Yes\"},\n",
    "    \"REINTUB\": {\n",
    "        \"No Complication\": \"No\",\n",
    "        \"Unplanned Intub\": \"Yes\",\n",
    "        \"Unplanned Intubation\": \"Yes\",\n",
    "    },\n",
    "    \"PULEMBOL\": {\"No Complication\": \"No\", \"Pulmonary Embolism\": \"Yes\"},\n",
    "    \"FAILWEAN\": {\"No Complication\": \"No\", \"On Ventilator greater than 48 Hours\": \"Yes\"},\n",
    "    \"RENAINSF\": {\n",
    "        \"No Complication\": \"No\",\n",
    "        \"Postop  Renal Insufficiency\": \"Yes\",\n",
    "        \"Progressive Renal Insufficiency\": \"Yes\",\n",
    "        \"Progressive Ren\": \"Yes\",\n",
    "    },\n",
    "    \"OPRENAFL\": {\n",
    "        \"No Complication\": \"No\",\n",
    "        \"Acute Renal Failure\": \"Yes\",\n",
    "        \"Postop Dialysis\": \"Yes\",\n",
    "    },\n",
    "    \"URNINFEC\": {\"No Complication\": \"No\", \"Urinary Tract Infection\": \"Yes\"},\n",
    "    \"CNSCVA\": {\"No Complication\": \"No\", \"Stroke/CVA\": \"Yes\"},\n",
    "    \"CDARREST\": {\n",
    "        \"No Complication\": \"No\",\n",
    "        \"Cardiac Arrest Requiring CPR\": \"Yes\",\n",
    "        \"Cardiac Arrest\": \"Yes\",\n",
    "    },\n",
    "    \"CDMI\": {\n",
    "        \"No Complication\": \"No\",\n",
    "        \"Myocardial Infarction\": \"Yes\",\n",
    "        \"Myocardial Infa\": \"Yes\",\n",
    "    },\n",
    "    \"OTHBLEED\": {\n",
    "        \"No Complication\": \"No\",\n",
    "        \"Transfusions/Intraop/Postop\": \"Yes\",\n",
    "        \"Blood Transfusion\": \"Yes\",\n",
    "    },\n",
    "    \"OTHDVT\": {\n",
    "        \"No Complication\": \"No\",\n",
    "        \"DVT Requiring Therapy\": \"Yes\",\n",
    "        \"Venous Thrombosis Requiring Therapy\": \"Yes\",\n",
    "        \"DVT Requiring Therap\": \"Yes\",\n",
    "    },\n",
    "    \"OTHSYSEP\": {\"No Complication\": \"No\", \"Sepsis\": \"Yes\"},\n",
    "    \"OTHSESHOCK\": {\"No Complication\": \"No\", \"Septic Shock\": \"Yes\"},\n",
    "    \"RETURNOR\": {\"NUL\": \"No\"},\n",
    "    \"READMISSION1\": {\"NUL\": \"No\"},\n",
    "    \"Age\": {\"90+\": \"90\", \" \": \"-99\"},\n",
    "}\n",
    "\n",
    "df_replaced = df_sub.replace(replace_dict)\n",
    "df_replaced[\"Age\"] = df_replaced[\"Age\"].astype(int)\n",
    "df_replaced[\"YRDEATH\"] = np.where(df_replaced[\"YRDEATH\"] == -99, \"No\", \"Yes\")\n",
    "df_replaced.rename(columns={\"YRDEATH\": \"Mortality\"}, inplace=True)"
   ]
  },
  {
   "cell_type": "markdown",
   "id": "8bd4410b",
   "metadata": {},
   "source": [
    "Remove sparse entries"
   ]
  },
  {
   "cell_type": "code",
   "execution_count": null,
   "id": "41cc1e4c",
   "metadata": {},
   "outputs": [],
   "source": [
    "# Remove SEX Non-binary entries\n",
    "df_replaced = df_replaced[df_replaced[\"SEX\"] != \"non-binary\"]\n",
    "# Remove Other/Unknown from FNSTATUS2\n",
    "df_replaced = df_replaced[df_replaced[\"FNSTATUS2\"] != \"Other_Unknown\"]\n",
    "# Remove None Assigned entries from ASACLAS\n",
    "df_replaced = df_replaced[df_replaced[\"ASACLAS\"] != \"None assigned\"]"
   ]
  },
  {
   "cell_type": "markdown",
   "id": "0d2a2168",
   "metadata": {},
   "source": [
    "## Create Target Variables"
   ]
  },
  {
   "cell_type": "code",
   "execution_count": null,
   "id": "b5e954fb",
   "metadata": {},
   "outputs": [],
   "source": [
    "###Surgical Wound Complications###\n",
    "surg_wound_compl_cols = [\n",
    "    \"SUPINFEC\",  # Superficial infection\n",
    "    \"WNDINFD\",  # Deep infection\n",
    "    \"ORGSPCSSI\",  # Organ space infection\n",
    "    \"DEHIS\",  # Dehisence\n",
    "]\n",
    "y_surg_wnd_comp = (df_replaced[surg_wound_compl_cols] == \"Yes\").any(axis=1).astype(int)\n",
    "y_surg_wnd_comp.name = \"Surgical_Outcome\"\n",
    "###Bleed###\n",
    "y_bleed = df_replaced[\"OTHBLEED\"].map({\"No\": 0, \"Yes\": 1}).astype(int)\n",
    "y_bleed.name = \"Bleed_Outcome\"\n",
    "###Aspiration Complications###\n",
    "asp_compl_cols = [\n",
    "    \"OUPNEUMO\",  # Pnemonia\n",
    "    \"REINTUB\",  # Reintubation\n",
    "    \"FAILWEAN\",\n",
    "]  # Ventilator > 48hrs\n",
    "y_asp_comp = (df_replaced[asp_compl_cols] == \"Yes\").any(axis=1).astype(int)\n",
    "y_asp_comp.name = \"Aspiration_Outcome\"\n",
    "###Mortality###\n",
    "y_mortality = df_replaced[\"Mortality\"].map({\"No\": 0, \"Yes\": 1}).astype(int)\n",
    "y_mortality.name = \"Mortality_Outcome\"\n",
    "\n",
    "\n",
    "## Dict of outcome name and outcome data\n",
    "OUTCOME_DICT = {\n",
    "    \"Surgical_Outcome\": y_surg_wnd_comp,\n",
    "    \"Bleed_Outcome\": y_bleed,\n",
    "    \"Aspiration_Outcome\": y_asp_comp,\n",
    "    \"Mortality_Outcome\": y_mortality,\n",
    "}\n",
    "## Dict of outcome name and sub-columnn names\n",
    "outcome_sub_cols = {\n",
    "    \"Surgical_Outcome\": surg_wound_compl_cols,\n",
    "    \"Bleed_Outcome\": \"OTHBLEED\",\n",
    "    \"Aspiration_Outcome\": asp_compl_cols,\n",
    "    \"Mortality_Outcome\": \"Mortality\",\n",
    "}"
   ]
  },
  {
   "cell_type": "markdown",
   "id": "520d7772",
   "metadata": {},
   "source": [
    "## Clean Numerical Features"
   ]
  },
  {
   "cell_type": "markdown",
   "id": "b496f6d5",
   "metadata": {},
   "source": [
    "Normalize NA"
   ]
  },
  {
   "cell_type": "code",
   "execution_count": null,
   "id": "de5f61a5",
   "metadata": {},
   "outputs": [],
   "source": [
    "## ALL NA values are listed as -99/999, not NA/missing\n",
    "numerical_cols = get_feature_lists(df_replaced)[\"numerical_cols\"]\n",
    "# numerical_cols = [col for col in df_sub.columns if len(df_sub[col].value_counts()) > 8]\n",
    "df_replaced[numerical_cols] = df_replaced[numerical_cols].replace(-99, np.nan)\n",
    "df_replaced[numerical_cols] = df_replaced[numerical_cols].replace(999, np.nan)\n",
    "print(\"Proportion of NA vals in feature:\")\n",
    "print(df_replaced[numerical_cols].isna().mean())"
   ]
  },
  {
   "cell_type": "markdown",
   "id": "0d24681b",
   "metadata": {},
   "source": [
    "Remove outliers"
   ]
  },
  {
   "cell_type": "code",
   "execution_count": null,
   "id": "1fcc3a85",
   "metadata": {},
   "outputs": [],
   "source": [
    "# Iterate through once and get limits to avoid any bias\n",
    "df_clean = df_replaced.copy()\n",
    "outlier_dict = {}\n",
    "for col in numerical_cols:\n",
    "    if col == \"TOTHLOS\":  # Not included in ML--> no need to remove outliers\n",
    "        continue\n",
    "    outlier_dict[col] = {}\n",
    "    cur_col = df_clean[col]\n",
    "    std = np.std(cur_col)\n",
    "    mean = np.mean(cur_col)\n",
    "    low_lim = mean - (3 * std)\n",
    "    high_lim = mean + (3 * std)\n",
    "    outlier_dict[col][\"low_lim\"] = low_lim\n",
    "    outlier_dict[col][\"high_lim\"] = high_lim\n",
    "\n",
    "\n",
    "print(f\"Original Shape: {df_clean.shape[0]}\")\n",
    "# Use limits to remove outliers and generate\n",
    "# df_clean = df_clean.reset_index(drop=True)\n",
    "for col_name, lim_dict in outlier_dict.items():\n",
    "    og_len = df_clean.shape[0]\n",
    "    print(f\"{'-'*10}{col_name} {'-'*10}\")\n",
    "    lower_lim = lim_dict[\"low_lim\"]\n",
    "    high_lim = lim_dict[\"high_lim\"]\n",
    "    keep_indices = (\n",
    "        df_clean[(df_clean[col_name] > low_lim) & (df_clean[col_name] < high_lim)]\n",
    "    ).index\n",
    "    df_clean = df_clean.loc[keep_indices]\n",
    "    print(f\"Total number removed: {og_len - df_clean.shape[0]}\")\n",
    "    for outcome_name, og_outcome in OUTCOME_DICT.items():\n",
    "        sub_outcome = og_outcome.loc[keep_indices]\n",
    "        OUTCOME_DICT[outcome_name] = sub_outcome\n",
    "        print(f\"Outcome: {outcome_name}\")\n",
    "        print(\n",
    "            f\"Original pos counts: {og_outcome.value_counts().loc[1]} ({(og_outcome.value_counts().loc[1] / len(og_outcome)) * 100 :.1f}%)\"\n",
    "        )\n",
    "        print(\n",
    "            f\"Pos remaining: {sub_outcome.value_counts().loc[1]} ({(sub_outcome.value_counts().loc[1] / len(sub_outcome)) * 100 :.1f}%)\"\n",
    "        )\n",
    "print(f\"Resulting Shape: {df_clean.shape[0]}\")\n",
    "print(\"*\" * 100)\n",
    "\n",
    "#####Reset all indices\n",
    "df_clean = df_clean.reset_index(drop=True)\n",
    "for outcome_name, outcome in OUTCOME_DICT.items():\n",
    "    OUTCOME_DICT[outcome_name] = outcome.reset_index(drop=True)"
   ]
  },
  {
   "cell_type": "markdown",
   "id": "c0e7206f",
   "metadata": {},
   "source": [
    "## Export"
   ]
  },
  {
   "cell_type": "markdown",
   "id": "18e75712",
   "metadata": {},
   "source": [
    "Outcomes"
   ]
  },
  {
   "cell_type": "code",
   "execution_count": null,
   "id": "12c30ba4",
   "metadata": {},
   "outputs": [],
   "source": [
    "outcome_df = pd.DataFrame(OUTCOME_DICT)\n",
    "outcome_df.to_excel(BASE_PATH / \"data\" / \"processed\" / \"Outcome_df.xlsx\", index=False)"
   ]
  },
  {
   "cell_type": "markdown",
   "id": "748c7394",
   "metadata": {},
   "source": [
    "X_df"
   ]
  },
  {
   "cell_type": "code",
   "execution_count": null,
   "id": "114e93ba",
   "metadata": {},
   "outputs": [],
   "source": [
    "df_clean.to_excel(\n",
    "    BASE_PATH / \"data\" / \"processed\" / \"fully_cleaned_tongue_data.xlsx\", index=True\n",
    ")"
   ]
  }
 ],
 "metadata": {
  "kernelspec": {
   "display_name": "ml-tongue-pred",
   "language": "python",
   "name": "python3"
  },
  "language_info": {
   "codemirror_mode": {
    "name": "ipython",
    "version": 3
   },
   "file_extension": ".py",
   "mimetype": "text/x-python",
   "name": "python",
   "nbconvert_exporter": "python",
   "pygments_lexer": "ipython3",
   "version": "3.13.5"
  }
 },
 "nbformat": 4,
 "nbformat_minor": 5
}
