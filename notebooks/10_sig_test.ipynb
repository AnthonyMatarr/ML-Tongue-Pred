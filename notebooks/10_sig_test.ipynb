{
 "cells": [
  {
   "cell_type": "markdown",
   "id": "ef2a06a6",
   "metadata": {},
   "source": [
    "# Results Significance Testing"
   ]
  },
  {
   "cell_type": "code",
   "execution_count": null,
   "id": "7868ee63",
   "metadata": {},
   "outputs": [],
   "source": [
    "import sys\n",
    "\n",
    "sys.path.append(\"../\")\n",
    "from src.config import BASE_PATH\n",
    "from src.data_utils import get_data, get_models\n",
    "from src.sig import generate_delong_heatmap, get_friedman_df\n",
    "import warnings\n",
    "\n",
    "import numpy as np\n",
    "import seaborn as sns\n",
    "import matplotlib.pyplot as plt\n",
    "from matplotlib.colors import LinearSegmentedColormap, TwoSlopeNorm\n",
    "from scipy.stats import friedmanchisquare\n",
    "from scikit_posthocs import posthoc_nemenyi_friedman"
   ]
  },
  {
   "cell_type": "markdown",
   "id": "caab9006",
   "metadata": {},
   "source": [
    "Set Globals"
   ]
  },
  {
   "cell_type": "code",
   "execution_count": null,
   "id": "57469752",
   "metadata": {},
   "outputs": [],
   "source": [
    "## Data\n",
    "OUTCOME_DICT = {\n",
    "    \"surg\": get_data(\"outcome_surg\"),\n",
    "    \"bleed\": get_data(\"outcome_bleed\"),\n",
    "    \"asp\": get_data(\"outcome_asp\"),\n",
    "    \"mort\": get_data(\"outcome_mort\"),\n",
    "}\n",
    "\n",
    "## Models\n",
    "model_dir = BASE_PATH / \"cal_models\"\n",
    "model_prefix_list = [\"lr\", \"lgbm\", \"svc\", \"stack\", \"nn\"]\n",
    "MODEL_DICT = {}\n",
    "for outcome in OUTCOME_DICT.keys():\n",
    "    MODEL_DICT[outcome] = get_models(model_prefix_list, outcome, model_dir)\n",
    "\n",
    "RESULT_PATH = BASE_PATH / \"results\""
   ]
  },
  {
   "cell_type": "markdown",
   "id": "945d3ebe",
   "metadata": {},
   "source": [
    "# OUTCOME LEVEL"
   ]
  },
  {
   "cell_type": "markdown",
   "id": "0776f08b",
   "metadata": {},
   "source": [
    "## Model-Model"
   ]
  },
  {
   "cell_type": "code",
   "execution_count": null,
   "id": "19b29f58",
   "metadata": {},
   "outputs": [],
   "source": [
    "for outcome_name, outcome_data in OUTCOME_DICT.items():\n",
    "    X_test = outcome_data[\"X_test\"]\n",
    "    y_test = outcome_data[\"y_test\"].values.ravel()\n",
    "    cur_model_dict = MODEL_DICT[outcome_name]\n",
    "    generate_delong_heatmap(\n",
    "        X_test, y_test, cur_model_dict, outcome_name, result_path=RESULT_PATH\n",
    "    )"
   ]
  },
  {
   "cell_type": "markdown",
   "id": "9758b691",
   "metadata": {},
   "source": [
    "# PROJECT LEVEL"
   ]
  },
  {
   "cell_type": "markdown",
   "id": "160f34f0",
   "metadata": {},
   "source": [
    "Model-Model\n",
    "\n",
    "Friedman test --> No statistical difference across models"
   ]
  },
  {
   "cell_type": "code",
   "execution_count": null,
   "id": "21d5d540",
   "metadata": {},
   "outputs": [],
   "source": [
    "friedman_df = get_friedman_df(model_dict=MODEL_DICT, outcome_dict=OUTCOME_DICT)\n",
    "stat, p = friedmanchisquare(*[friedman_df[col] for col in friedman_df.columns])\n",
    "print(\"Friedman statistic:\", stat)\n",
    "print(\"p-value:\", p)"
   ]
  },
  {
   "cell_type": "markdown",
   "id": "3bde1df8",
   "metadata": {},
   "source": [
    "Outcome-Outcome\n",
    "\n",
    "Friedman test --> Yes statistical difference across outcomes"
   ]
  },
  {
   "cell_type": "code",
   "execution_count": null,
   "id": "c6988f09",
   "metadata": {},
   "outputs": [],
   "source": [
    "friedman_t = get_friedman_df(model_dict=MODEL_DICT, outcome_dict=OUTCOME_DICT).T\n",
    "stat, p = friedmanchisquare(*[friedman_t[col] for col in friedman_t.columns])\n",
    "print(\"Friedman statistic:\", stat)\n",
    "print(\"p-value:\", p)"
   ]
  },
  {
   "cell_type": "markdown",
   "id": "52177873",
   "metadata": {},
   "source": [
    "Nemenyi test"
   ]
  },
  {
   "cell_type": "code",
   "execution_count": null,
   "id": "b0ca751b",
   "metadata": {},
   "outputs": [],
   "source": [
    "################ Get p-value table ################\n",
    "nemenyi_path = RESULT_PATH / \"tables\" / \"p_vals\" / f\"outcome_outcome.xlsx\"\n",
    "if nemenyi_path.exists():\n",
    "    warnings.warn(f\"Over-writing outcome p table at {nemenyi_path}\")\n",
    "    nemenyi_path.unlink()\n",
    "nemenyi_path.parent.mkdir(exist_ok=True, parents=True)\n",
    "nemenyi_results = posthoc_nemenyi_friedman(friedman_t)\n",
    "nemenyi_results.to_excel(nemenyi_path)\n",
    "\n",
    "################ Generate heatmap from table ################\n",
    "# Set up export\n",
    "heat_path = RESULT_PATH / \"figures\" / \"heatmap\" / \"outcome_outcome.pdf\"\n",
    "if heat_path.exists():\n",
    "    warnings.warn(f\"Over-writing outcome heatmap at {heat_path}\")\n",
    "    heat_path.unlink()\n",
    "heat_path.parent.mkdir(exist_ok=True, parents=True)\n",
    "# Organize color scheme\n",
    "colors = [(0.0, \"green\"), (0.15, \"purple\"), (1.0, \"blue\")]  # 0  # 0.05  # 1\n",
    "custom_cmap = LinearSegmentedColormap.from_list(\"custom_pval\", colors)\n",
    "# Plot\n",
    "fig, ax = plt.subplots(figsize=(8, 6))\n",
    "mask = np.zeros_like(nemenyi_results)\n",
    "mask[np.triu_indices_from(mask)] = True\n",
    "sns.heatmap(\n",
    "    nemenyi_results,\n",
    "    annot=True,\n",
    "    fmt=\".4f\",\n",
    "    cmap=custom_cmap,\n",
    "    vmax=1,\n",
    "    vmin=0,\n",
    "    ax=ax,\n",
    "    mask=mask,\n",
    "    cbar_kws={\"label\": \"p-value\"},\n",
    ")\n",
    "# Add arrows\n",
    "avg_dict = {col: friedman_t[col].mean() for col in friedman_t.columns}\n",
    "for i, outcomeA in enumerate(nemenyi_results.index):\n",
    "    for j, outcomeB in enumerate(nemenyi_results.columns):\n",
    "        if i <= j or nemenyi_results.iloc[i, j] > 0.05:\n",
    "            continue\n",
    "        if avg_dict[outcomeA] > avg_dict[outcomeB]:  # row wins\n",
    "            arrow = \"\\u2190\"\n",
    "        else:\n",
    "            arrow = \"\\u2193\"\n",
    "        ax.text(\n",
    "            j + 0.5,\n",
    "            i + 0.75,\n",
    "            arrow,\n",
    "            va=\"center\",\n",
    "            ha=\"center\",\n",
    "            fontsize=12,\n",
    "            color=\"black\",\n",
    "        )\n",
    "plt.title(\"Nemenyi Post-hoc Pairwise Outcome Comparison\")\n",
    "plt.savefig(heat_path, bbox_inches=\"tight\")\n",
    "plt.show()"
   ]
  }
 ],
 "metadata": {
  "kernelspec": {
   "display_name": "ml-tongue-pred",
   "language": "python",
   "name": "python3"
  },
  "language_info": {
   "codemirror_mode": {
    "name": "ipython",
    "version": 3
   },
   "file_extension": ".py",
   "mimetype": "text/x-python",
   "name": "python",
   "nbconvert_exporter": "python",
   "pygments_lexer": "ipython3",
   "version": "3.12.11"
  }
 },
 "nbformat": 4,
 "nbformat_minor": 5
}
