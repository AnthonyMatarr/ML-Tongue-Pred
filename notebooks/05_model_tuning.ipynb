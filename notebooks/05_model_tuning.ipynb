{
 "cells": [
  {
   "cell_type": "markdown",
   "id": "20700bfa",
   "metadata": {},
   "source": [
    "# Tune LR, SVC, LightGBM"
   ]
  },
  {
   "cell_type": "code",
   "execution_count": null,
   "id": "c3c22fc0",
   "metadata": {},
   "outputs": [],
   "source": [
    "import sys\n",
    "import json\n",
    "\n",
    "sys.path.append(\"../\")\n",
    "from src.config import BASE_PATH\n",
    "from src.data_utils import get_data\n",
    "from src.tune import (\n",
    "    lr_model_builder,\n",
    "    lightgbm_model_builder,\n",
    "    svc_model_builder,\n",
    "    tune_model_mult_outcomes,\n",
    "    get_prelim_results,\n",
    ")\n",
    "\n",
    "from joblib import Parallel, delayed"
   ]
  },
  {
   "cell_type": "markdown",
   "id": "1be7587f",
   "metadata": {},
   "source": [
    "Set globals"
   ]
  },
  {
   "cell_type": "code",
   "execution_count": null,
   "id": "e6e864e6",
   "metadata": {},
   "outputs": [],
   "source": [
    "OUTCOME_DICT = {\n",
    "    \"surg\": get_data(\"outcome_surg\"),\n",
    "    \"bleed\": get_data(\"outcome_bleed\"),\n",
    "    \"asp\": get_data(\"outcome_asp\"),\n",
    "    \"mort\": get_data(\"outcome_mort\"),\n",
    "}\n",
    "\n",
    "NUM_TRIALS = 300\n",
    "LOG_PATH = BASE_PATH / \"logs\"\n",
    "RESULT_PATH = BASE_PATH / \"models\" / \"tune_results\""
   ]
  },
  {
   "cell_type": "markdown",
   "id": "f91cf6f4",
   "metadata": {},
   "source": [
    "Call Tuner"
   ]
  },
  {
   "cell_type": "code",
   "execution_count": null,
   "id": "7c0c39a1",
   "metadata": {},
   "outputs": [],
   "source": [
    "models_dict = {\"lr\": lr_model_builder}\n",
    "\n",
    "jobs = [\n",
    "    delayed(tune_model_mult_outcomes)(\n",
    "        model_builder=lr_model_builder,\n",
    "        model_abrv=\"lr\",\n",
    "        outcome_dict=OUTCOME_DICT,\n",
    "        scoring=\"roc_auc\",\n",
    "        log_file_path=LOG_PATH / \"lr_res.log\",\n",
    "        save_path=RESULT_PATH / \"lr.json\",\n",
    "        n_trials=NUM_TRIALS,\n",
    "    ),\n",
    "    delayed(tune_model_mult_outcomes)(\n",
    "        model_builder=lightgbm_model_builder,\n",
    "        model_abrv=\"lgbm\",\n",
    "        outcome_dict=OUTCOME_DICT,\n",
    "        scoring=\"roc_auc\",\n",
    "        log_file_path=LOG_PATH / \"lgbm_res.log\",\n",
    "        save_path=RESULT_PATH / \"lgbm.json\",\n",
    "        n_trials=NUM_TRIALS,\n",
    "    ),\n",
    "    delayed(tune_model_mult_outcomes)(\n",
    "        model_builder=svc_model_builder,\n",
    "        model_abrv=\"svc\",\n",
    "        outcome_dict=OUTCOME_DICT,\n",
    "        scoring=\"roc_auc\",\n",
    "        log_file_path=LOG_PATH / \"svc_res.log\",\n",
    "        save_path=RESULT_PATH / \"svc.json\",\n",
    "        n_trials=NUM_TRIALS,\n",
    "    ),\n",
    "]\n",
    "results = Parallel(n_jobs=3)(jobs)\n",
    "lr_results_dict, lightgbm_results_dict, svc_results_dict = results"
   ]
  },
  {
   "cell_type": "markdown",
   "id": "492b78d2",
   "metadata": {},
   "source": [
    "Get prelim results"
   ]
  },
  {
   "cell_type": "code",
   "execution_count": null,
   "id": "c1f06887",
   "metadata": {},
   "outputs": [],
   "source": [
    "with open(RESULT_PATH / \"lr.json\", \"r\") as f:\n",
    "    lr_results_dict = json.load(f)\n",
    "get_prelim_results(\n",
    "    results_dict=lr_results_dict,\n",
    "    model_builder=lr_model_builder,\n",
    "    model_abrv=\"lr\",\n",
    "    outcome_dict=OUTCOME_DICT,\n",
    "    model_save_dir=BASE_PATH / \"models2\",\n",
    ")\n",
    "with open(RESULT_PATH / \"lgbm.json\", \"r\") as f:\n",
    "    lightgbm_results_dict = json.load(f)\n",
    "get_prelim_results(\n",
    "    results_dict=lightgbm_results_dict,\n",
    "    model_builder=lightgbm_model_builder,\n",
    "    model_abrv=\"lgbm\",\n",
    "    outcome_dict=OUTCOME_DICT,\n",
    "    model_save_dir=BASE_PATH / \"models2\",\n",
    ")\n",
    "with open(RESULT_PATH / \"svc.json\", \"r\") as f:\n",
    "    svc_results_dict = json.load(f)\n",
    "get_prelim_results(\n",
    "    results_dict=svc_results_dict,\n",
    "    model_builder=svc_model_builder,\n",
    "    model_abrv=\"svc\",\n",
    "    outcome_dict=OUTCOME_DICT,\n",
    "    model_save_dir=BASE_PATH / \"models2\",\n",
    ")"
   ]
  }
 ],
 "metadata": {
  "kernelspec": {
   "display_name": "ml-tongue-pred",
   "language": "python",
   "name": "python3"
  },
  "language_info": {
   "codemirror_mode": {
    "name": "ipython",
    "version": 3
   },
   "file_extension": ".py",
   "mimetype": "text/x-python",
   "name": "python",
   "nbconvert_exporter": "python",
   "pygments_lexer": "ipython3",
   "version": "3.12.11"
  }
 },
 "nbformat": 4,
 "nbformat_minor": 5
}
