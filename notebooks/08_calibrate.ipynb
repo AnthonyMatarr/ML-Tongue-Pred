{
 "cells": [
  {
   "cell_type": "markdown",
   "id": "356ce250",
   "metadata": {},
   "source": [
    "# Calibrate Models"
   ]
  },
  {
   "cell_type": "markdown",
   "id": "a61d5148",
   "metadata": {},
   "source": [
    "## Import Packages/Libraries + set globals"
   ]
  },
  {
   "cell_type": "code",
   "execution_count": null,
   "id": "a8572da1",
   "metadata": {},
   "outputs": [],
   "source": [
    "import sys\n",
    "\n",
    "sys.path.append(\"../\")\n",
    "from src.data_utils import get_data, get_models\n",
    "from src.nn_models import load_nn_clf\n",
    "\n",
    "from sklearn.calibration import CalibratedClassifierCV\n",
    "from sklearn.frozen import FrozenEstimator\n",
    "from sklearn.metrics import roc_auc_score\n",
    "from sklearn.model_selection import StratifiedKFold\n",
    "from src.config import BASE_PATH, DEVICE, SEED\n",
    "import joblib as jb"
   ]
  },
  {
   "cell_type": "markdown",
   "id": "a040b7ab",
   "metadata": {},
   "source": [
    "Set Globals"
   ]
  },
  {
   "cell_type": "code",
   "execution_count": null,
   "id": "f19b94c6",
   "metadata": {},
   "outputs": [],
   "source": [
    "# Data\n",
    "OUTCOME_DICT = {\n",
    "    \"surg\": get_data(\"outcome_surg\"),\n",
    "    \"bleed\": get_data(\"outcome_bleed\"),\n",
    "    \"asp\": get_data(\"outcome_asp\"),\n",
    "    \"mort\": get_data(\"outcome_mort\"),\n",
    "}\n",
    "\n",
    "# Models\n",
    "model_prefix_list = [\"lr\", \"lgbm\", \"svc\", \"stack\"]\n",
    "##Can use any X df for input dimension, all = # of features\n",
    "nn_in_dim = OUTCOME_DICT[\"surg\"][\"X_train\"].shape[1]\n",
    "\n",
    "MODEL_DICT = {}\n",
    "for outcome in OUTCOME_DICT.keys():\n",
    "    MODEL_DICT[outcome] = get_models(model_prefix_list, outcome)\n",
    "    nn_dir = BASE_PATH / \"models\" / outcome / \"nn.pt\"\n",
    "    MODEL_DICT[outcome][\"nn\"] = load_nn_clf(\n",
    "        data_path=nn_dir, in_dim=nn_in_dim, device=DEVICE\n",
    "    )"
   ]
  },
  {
   "cell_type": "markdown",
   "id": "64314a38",
   "metadata": {},
   "source": [
    "## Calibrate Models"
   ]
  },
  {
   "cell_type": "code",
   "execution_count": null,
   "id": "c886c98b",
   "metadata": {},
   "outputs": [],
   "source": [
    "# For each outcome\n",
    "for outcome_name, model_dict in MODEL_DICT.items():\n",
    "    if outcome_name == \"mort\":\n",
    "        n_splits = 4\n",
    "    else:\n",
    "        n_splits = 5\n",
    "    print(f\"Working on outcome: {outcome_name}...\")\n",
    "    # For each model\n",
    "    for model_name, model in model_dict.items():\n",
    "        print(f\"Model: \\t\\t{model_name}\")\n",
    "        ### Fit Calibrated Classifier on validation set###\n",
    "        X_val = OUTCOME_DICT[outcome_name][\"X_val\"]\n",
    "        y_val = OUTCOME_DICT[outcome_name][\"y_val\"].values.ravel()\n",
    "        # Frozen estimator -- won't refit\n",
    "        skf = StratifiedKFold(n_splits=n_splits, shuffle=True, random_state=SEED)\n",
    "        calibrated_model = CalibratedClassifierCV(FrozenEstimator(model), cv=skf)\n",
    "        calibrated_model.fit(X_val, y_val)\n",
    "        ### Export model ###\n",
    "        export_path = BASE_PATH / \"cal_models\" / outcome_name / f\"{model_name}.joblib\"\n",
    "        if export_path.exists():\n",
    "            export_path.unlink()\n",
    "        export_path.parent.mkdir(exist_ok=True, parents=True)\n",
    "        jb.dump(calibrated_model, export_path)\n",
    "        ### Get prelim results ###\n",
    "        # Val\n",
    "        val_proba = calibrated_model.predict_proba(X_val)[:, 1]  # type: ignore\n",
    "        val_score = roc_auc_score(y_val, val_proba)\n",
    "\n",
    "        # Train\n",
    "        X_train = OUTCOME_DICT[outcome_name][\"X_train\"]\n",
    "        y_train = OUTCOME_DICT[outcome_name][\"y_train\"]\n",
    "        train_proba = calibrated_model.predict_proba(X_train)[:, 1]  # type: ignore\n",
    "        train_score = roc_auc_score(y_train, train_proba)\n",
    "\n",
    "        print(f\"Train AUROC: \\t{train_score:.3f}\")\n",
    "        print(f\"Val AUROC: \\t{val_score:.3f}\")\n",
    "        print(\"*\" * 20)\n",
    "    print(\"-\" * 50)"
   ]
  }
 ],
 "metadata": {
  "kernelspec": {
   "display_name": "ml-tongue-pred",
   "language": "python",
   "name": "python3"
  },
  "language_info": {
   "codemirror_mode": {
    "name": "ipython",
    "version": 3
   },
   "file_extension": ".py",
   "mimetype": "text/x-python",
   "name": "python",
   "nbconvert_exporter": "python",
   "pygments_lexer": "ipython3",
   "version": "3.12.11"
  }
 },
 "nbformat": 4,
 "nbformat_minor": 5
}
