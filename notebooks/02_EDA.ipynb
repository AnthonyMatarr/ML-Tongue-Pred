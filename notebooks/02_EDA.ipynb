{
 "cells": [
  {
   "cell_type": "markdown",
   "id": "291159ac",
   "metadata": {},
   "source": [
    "# Exploratory Data Analysis"
   ]
  },
  {
   "cell_type": "code",
   "execution_count": null,
   "id": "ea465a5b",
   "metadata": {},
   "outputs": [],
   "source": [
    "import sys\n",
    "\n",
    "sys.path.append(\"../\")\n",
    "from src.data_utils import get_feature_lists\n",
    "from src.config import BASE_PATH\n",
    "\n",
    "import pandas as pd\n",
    "import numpy as np\n",
    "import scipy.stats as stats\n",
    "import matplotlib.pyplot as plt\n",
    "import seaborn as sns\n",
    "from scipy.stats import chi2_contingency\n",
    "\n",
    "df = pd.read_excel(\n",
    "    BASE_PATH / \"data\" / \"processed\" / \"fully_cleaned_tongue_data.xlsx\", index_col=0\n",
    ")"
   ]
  },
  {
   "cell_type": "code",
   "execution_count": null,
   "id": "04e6b75f",
   "metadata": {},
   "outputs": [],
   "source": [
    "# Extract features with NA or 999 entries\n",
    "for col in df.columns:\n",
    "    num_na = df[col].isna().sum()\n",
    "    if num_na > 0:\n",
    "        print(\"-\" * 10 + col + \"-\" * 10)\n",
    "        print(f\"NA entries: {num_na}\")\n",
    "print(\"-\" * 15 + \"total\" + \"-\" * 15)\n",
    "print(f\"TOTAL NA entries: {df.isna().sum().sum()}\")"
   ]
  },
  {
   "cell_type": "markdown",
   "id": "2373dbf7",
   "metadata": {},
   "source": [
    "Classify features by data type"
   ]
  },
  {
   "cell_type": "code",
   "execution_count": null,
   "id": "b2579002",
   "metadata": {},
   "outputs": [],
   "source": [
    "##Imported func from src\n",
    "feature_lists = get_feature_lists(df)\n",
    "binary_cols = feature_lists[\"binary_cols\"]\n",
    "numerical_cols = feature_lists[\"numerical_cols\"]\n",
    "nominal_cols = feature_lists[\"nominal_cols\"]\n",
    "ordinal_cols = feature_lists[\"ordinal_cols\"]"
   ]
  },
  {
   "cell_type": "markdown",
   "id": "228d4817",
   "metadata": {},
   "source": [
    "Plot histograms and Q-Q plots for each numerical feature"
   ]
  },
  {
   "cell_type": "code",
   "execution_count": null,
   "id": "3ae0db42",
   "metadata": {},
   "outputs": [],
   "source": [
    "for feature in numerical_cols:\n",
    "    plt.figure(figsize=(12, 6))\n",
    "\n",
    "    # Histogram with KDE\n",
    "    plt.subplot(1, 2, 1)\n",
    "    sns.histplot(df[feature], kde=True, bins=50, color=\"blue\")\n",
    "    plt.title(f\"Histogram of {feature}\")\n",
    "    plt.xlabel(feature)\n",
    "    plt.ylabel(\"Count\")\n",
    "\n",
    "    # Q-Q Plot\n",
    "    plt.subplot(1, 2, 2)\n",
    "    stats.probplot(df[feature], dist=\"norm\", plot=plt)\n",
    "    plt.title(f\"Q-Q Plot of {feature}\")\n",
    "\n",
    "    # Adjust layout and display\n",
    "    plt.tight_layout()\n",
    "    plt.show()"
   ]
  },
  {
   "cell_type": "markdown",
   "id": "200dca45",
   "metadata": {},
   "source": [
    "Get numerical-numerical correlations"
   ]
  },
  {
   "cell_type": "code",
   "execution_count": null,
   "id": "5d1de58e",
   "metadata": {},
   "outputs": [],
   "source": [
    "num_df = df[numerical_cols]\n",
    "correlation_matrix = num_df.corr(method=\"spearman\")\n",
    "# Values > 0.7 considered HIGH\n",
    "\n",
    "plt.figure(figsize=(8, 6))\n",
    "sns.heatmap(correlation_matrix, annot=True, cmap=\"coolwarm\")\n",
    "plt.title(\"Correlation Matrix\")\n",
    "plt.show()"
   ]
  },
  {
   "cell_type": "markdown",
   "id": "24504827",
   "metadata": {},
   "source": [
    "Get categorical-categorical correlation (including ordinal)"
   ]
  },
  {
   "cell_type": "code",
   "execution_count": null,
   "id": "d4ab352e",
   "metadata": {},
   "outputs": [],
   "source": [
    "# Function to calculate Cramér's V with bias correction\n",
    "# Code adopted from:\n",
    "# https://github.com/manindersingh120996/chi2_and_CrammerV_Corelation/blob/main/CrammerrV_correlation.py\n",
    "def cramerV(label, x):\n",
    "    confusion_matrix = pd.crosstab(label, x)\n",
    "    chi2 = chi2_contingency(confusion_matrix)[0]\n",
    "    n = confusion_matrix.sum().sum()\n",
    "    r, k = confusion_matrix.shape\n",
    "    phi2 = chi2 / n\n",
    "    phi2corr = max(0, phi2 - ((k - 1) * (r - 1)) / (n - 1))\n",
    "    rcorr = r - ((r - 1) ** 2) / (n - 1)\n",
    "    kcorr = k - ((k - 1) ** 2) / (n - 1)\n",
    "    if min((kcorr - 1), (rcorr - 1)) == 0:\n",
    "        v = 0\n",
    "    else:\n",
    "        v = np.sqrt(phi2corr / min((kcorr - 1), (rcorr - 1)))\n",
    "    return v\n",
    "\n",
    "\n",
    "def create_cramer_matrix(df, columns_of_interest):\n",
    "    cramer_matrix = pd.DataFrame(index=columns_of_interest, columns=columns_of_interest)\n",
    "    for col1 in columns_of_interest:\n",
    "        for col2 in columns_of_interest:\n",
    "            if col1 == col2:\n",
    "                cramer_matrix.loc[col1, col2] = 1.0  # Perfect correlation with itself\n",
    "            else:\n",
    "                cramer_matrix.loc[col1, col2] = cramerV(df[col1], df[col2])\n",
    "    return cramer_matrix.astype(float)\n",
    "\n",
    "\n",
    "# Get correlation amongst all categorical vars\n",
    "cat_cols = binary_cols + nominal_cols + ordinal_cols\n",
    "cramer_matrix = create_cramer_matrix(df, cat_cols)\n",
    "# Plot matrix\n",
    "plt.figure(figsize=(100, 20))\n",
    "sns.heatmap(cramer_matrix, annot=True, fmt=\".2f\", cmap=\"coolwarm\")\n",
    "plt.title(\"Cramér's V Correlation Matrix\")\n",
    "plt.show()"
   ]
  },
  {
   "cell_type": "markdown",
   "id": "f959f6a2",
   "metadata": {},
   "source": [
    "Note that categorical-numerical correlation will have NA values due to missing data so they are not worth exploring before imputing"
   ]
  }
 ],
 "metadata": {
  "kernelspec": {
   "display_name": "ml-tongue-pred",
   "language": "python",
   "name": "python3"
  },
  "language_info": {
   "codemirror_mode": {
    "name": "ipython",
    "version": 3
   },
   "file_extension": ".py",
   "mimetype": "text/x-python",
   "name": "python",
   "nbconvert_exporter": "python",
   "pygments_lexer": "ipython3",
   "version": "3.12.11"
  }
 },
 "nbformat": 4,
 "nbformat_minor": 5
}
