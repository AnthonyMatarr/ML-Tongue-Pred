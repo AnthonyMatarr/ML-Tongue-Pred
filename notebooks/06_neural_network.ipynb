{
 "cells": [
  {
   "cell_type": "markdown",
   "id": "4e8ca462",
   "metadata": {},
   "source": [
    "# Neural Network Construction + Tuning + Training"
   ]
  },
  {
   "cell_type": "code",
   "execution_count": null,
   "id": "1e58b8d5",
   "metadata": {},
   "outputs": [],
   "source": [
    "import sys\n",
    "import warnings\n",
    "\n",
    "sys.path.append(\"../\")\n",
    "from src.data_utils import get_data\n",
    "from src.config import SEED, BASE_PATH\n",
    "from src.tune import tune_model_nn, get_prelim_results, build_nn_estimator\n",
    "\n",
    "import json\n",
    "import optuna\n",
    "from joblib import Parallel, delayed"
   ]
  },
  {
   "cell_type": "markdown",
   "id": "ab3b64b2",
   "metadata": {},
   "source": [
    "Set Globals"
   ]
  },
  {
   "cell_type": "code",
   "execution_count": null,
   "id": "b726ff17",
   "metadata": {},
   "outputs": [],
   "source": [
    "OUTCOME_DICT = {\n",
    "    \"surg\": get_data(\"outcome_surg\"),\n",
    "    \"bleed\": get_data(\"outcome_bleed\"),\n",
    "    \"asp\": get_data(\"outcome_asp\"),\n",
    "    \"mort\": get_data(\"outcome_mort\"),\n",
    "}\n",
    "\n",
    "LOG_DIR = BASE_PATH / \"logs\" / \"nn\"\n",
    "LOG_DIR.mkdir(parents=True, exist_ok=True)\n",
    "RESULT_PATH = BASE_PATH / \"models\" / \"tune_results\" / \"nn\"\n",
    "N_TRIALS = 450  # More trials to have ample search space for 2 vs 3 layers\n",
    "SCORING = \"roc_auc\""
   ]
  },
  {
   "cell_type": "markdown",
   "id": "293b44c2",
   "metadata": {},
   "source": [
    "## Build + tune models"
   ]
  },
  {
   "cell_type": "code",
   "execution_count": null,
   "id": "0cf7a631",
   "metadata": {},
   "outputs": [],
   "source": [
    "jobs = []\n",
    "for outcome_name, outcome_data in OUTCOME_DICT.items():\n",
    "    log_file_path = LOG_DIR / f\"{outcome_name}.log\"\n",
    "    if log_file_path.exists():\n",
    "        warnings.warn(f\"Over-writing logs at path: {log_file_path}\")\n",
    "        log_file_path.unlink()\n",
    "\n",
    "    cur_outcome_dict = OUTCOME_DICT[outcome_name]\n",
    "    X_train = cur_outcome_dict[\"X_train\"]\n",
    "    y_train = cur_outcome_dict[\"y_train\"].values.ravel()\n",
    "\n",
    "    study = optuna.create_study(\n",
    "        study_name=f\"NN_{outcome_name}_study\",\n",
    "        direction=\"maximize\",\n",
    "        sampler=optuna.samplers.TPESampler(seed=SEED),\n",
    "        pruner=optuna.pruners.HyperbandPruner(min_resource=5, reduction_factor=3),\n",
    "    )\n",
    "\n",
    "    log_path = LOG_DIR / f\"{outcome_name}.log\"\n",
    "\n",
    "    jobs.append(\n",
    "        delayed(tune_model_nn)(\n",
    "            X_train=X_train,\n",
    "            y_train=y_train,\n",
    "            scoring=SCORING,\n",
    "            study=study,\n",
    "            log_path=log_path,\n",
    "            save_path=RESULT_PATH / f\"{outcome_name}.json\",\n",
    "            n_trials=N_TRIALS,\n",
    "        )\n",
    "    )\n",
    "\n",
    "results = Parallel(n_jobs=len(jobs))(jobs)"
   ]
  },
  {
   "cell_type": "markdown",
   "id": "8d8af90b",
   "metadata": {},
   "source": [
    "## Get prelim results"
   ]
  },
  {
   "cell_type": "code",
   "execution_count": null,
   "id": "7ef98276",
   "metadata": {},
   "outputs": [],
   "source": [
    "for outcome_name, outcome_data in OUTCOME_DICT.items():\n",
    "    with open(RESULT_PATH / f\"{outcome_name}.json\", \"r\") as f:\n",
    "        dict_import = json.load(f)\n",
    "    results_dict = {outcome_name: dict_import}\n",
    "    get_prelim_results(\n",
    "        results_dict=results_dict,\n",
    "        model_builder=build_nn_estimator,\n",
    "        model_abrv=\"nn\",\n",
    "        outcome_dict=OUTCOME_DICT,\n",
    "        model_save_dir=BASE_PATH / \"models\" / outcome_name,\n",
    "    )"
   ]
  }
 ],
 "metadata": {
  "kernelspec": {
   "display_name": ".venv",
   "language": "python",
   "name": "python3"
  },
  "language_info": {
   "codemirror_mode": {
    "name": "ipython",
    "version": 3
   },
   "file_extension": ".py",
   "mimetype": "text/x-python",
   "name": "python",
   "nbconvert_exporter": "python",
   "pygments_lexer": "ipython3",
   "version": "3.12.11"
  }
 },
 "nbformat": 4,
 "nbformat_minor": 5
}
