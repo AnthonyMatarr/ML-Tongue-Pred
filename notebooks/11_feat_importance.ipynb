{
 "cells": [
  {
   "cell_type": "markdown",
   "id": "9bfc5ce1",
   "metadata": {},
   "source": [
    "# Feature Importance\n"
   ]
  },
  {
   "cell_type": "markdown",
   "id": "79e0a69c",
   "metadata": {},
   "source": [
    "### Import Packages/Libraries + Data + Models\n"
   ]
  },
  {
   "cell_type": "code",
   "execution_count": null,
   "id": "6b51b1be",
   "metadata": {},
   "outputs": [],
   "source": [
    "import sys\n",
    "\n",
    "sys.path.append(\"../\")\n",
    "from src.data_utils import get_data, get_models\n",
    "from src.config import BASE_PATH\n",
    "from src.feat_importance import get_shap"
   ]
  },
  {
   "cell_type": "markdown",
   "id": "23fa5a74",
   "metadata": {},
   "source": [
    "Set Globals"
   ]
  },
  {
   "cell_type": "code",
   "execution_count": null,
   "id": "44a51a35",
   "metadata": {},
   "outputs": [],
   "source": [
    "## Data\n",
    "OUTCOME_DICT = {\n",
    "    \"surg\": get_data(\"outcome_surg\"),\n",
    "    \"bleed\": get_data(\"outcome_bleed\"),\n",
    "    \"asp\": get_data(\"outcome_asp\"),\n",
    "    \"mort\": get_data(\"outcome_mort\"),\n",
    "}\n",
    "\n",
    "## Models\n",
    "model_dir = BASE_PATH / \"cal_models\"\n",
    "model_prefix_list = [\"lr\", \"lgbm\", \"svc\", \"stack\", \"nn\"]\n",
    "MODEL_DICT = {}\n",
    "for outcome in OUTCOME_DICT.keys():\n",
    "    MODEL_DICT[outcome] = get_models(model_prefix_list, outcome, model_dir)\n",
    "\n",
    "FEAT_ORDER = [\n",
    "    # Pre-op\n",
    "    \"SEX\",  # Nominal\n",
    "    \"RACE\",  # Nominal\n",
    "    \"ETHNICITY_HISPANIC\",  # Binary\n",
    "    \"INOUT\",  # Binary\n",
    "    \"Age\",  # Numerical\n",
    "    \"ELECTSURG\",  # Nominal\n",
    "    \"BMI\",\n",
    "    \"DIABETES\",  # Binary\n",
    "    \"SMOKE\",  # Binary\n",
    "    \"DYSPNEA\",  # Binary\n",
    "    \"FNSTATUS2\",\n",
    "    \"VENTILAT\",\n",
    "    \"HXCOPD\",\n",
    "    \"ASCITES\",\n",
    "    \"HXCHF\",\n",
    "    \"HYPERMED\",\n",
    "    \"RENAFAIL\",\n",
    "    \"DIALYSIS\",\n",
    "    \"DISCANCR\",\n",
    "    \"WNDINF\",\n",
    "    \"STEROID\",\n",
    "    \"WTLOSS\",\n",
    "    \"BLEEDDIS\",\n",
    "    \"TRANSFUS\",\n",
    "    \"PRSEPIS\",\n",
    "    \"PRALBUM\",\n",
    "    \"PRWBC\",\n",
    "    \"ASACLAS\",\n",
    "    # Intra-op\n",
    "    \"OPTIME\",\n",
    "    \"Partial Glossectomy (Hemiglossectomy_Subtotal)\",\n",
    "    \"Composite_Extended Glossectomy\",\n",
    "    \"Total Glossectomy (Complete Tongue Removal)\",\n",
    "    \"Excision of Tongue Lesions (Minor)\",\n",
    "    \"Local_Regional Tissue Flaps for Oral Cavity Reconstruction\",\n",
    "    \"Free Tissue Transfer (Microvascular Free Flaps) and Complex Flap Reconstruction\",\n",
    "    \"Skin Autografts for Head and Neck Reconstruction\",\n",
    "    \"Neck Dissection and Lymphadenectomy Procedures\",\n",
    "    \"Alveolar Ridge and Gingival Procedures\",\n",
    "    \"Mandibular Resection and Reconstruction Procedures\",\n",
    "    \"Peripheral Nerve Repair and Neuroplasty\",\n",
    "    \"Tracheostomy Procedures\",\n",
    "    \"Gastrostomy and Esophageal Access Procedures\",\n",
    "    \"Submandibular Gland Excision\",\n",
    "    \"Parotid Gland Excision\",\n",
    "    \"Laryngeal Resection and Reconstruction Procedures\",\n",
    "    \"Pharyngeal Resection and Reconstruction Procedures\",\n",
    "    \"Tonsillectomy and Tonsillar Region Procedures\",\n",
    "    \"Malignant neoplasm\",\n",
    "]"
   ]
  },
  {
   "cell_type": "markdown",
   "id": "24f198cd",
   "metadata": {},
   "source": [
    "## SHAP\n"
   ]
  },
  {
   "cell_type": "code",
   "execution_count": null,
   "id": "db83efd1",
   "metadata": {},
   "outputs": [],
   "source": [
    "for outcome_name, outcome_data in OUTCOME_DICT.items():\n",
    "    print(f\"{'-'*40} {outcome_name} {'-'*40}\")\n",
    "    cur_model_dict = MODEL_DICT[outcome_name]\n",
    "    X = outcome_data[\"X_test\"]\n",
    "    get_shap(\n",
    "        X=X,\n",
    "        model_dict=cur_model_dict,\n",
    "        feat_order=FEAT_ORDER,\n",
    "        result_path=BASE_PATH / \"results\" / \"tables\" / \"SHAP\" / f\"{outcome_name}.xlsx\",\n",
    "    )"
   ]
  }
 ],
 "metadata": {
  "kernelspec": {
   "display_name": "ml-tongue-pred",
   "language": "python",
   "name": "python3"
  },
  "language_info": {
   "codemirror_mode": {
    "name": "ipython",
    "version": 3
   },
   "file_extension": ".py",
   "mimetype": "text/x-python",
   "name": "python",
   "nbconvert_exporter": "python",
   "pygments_lexer": "ipython3",
   "version": "3.12.11"
  }
 },
 "nbformat": 4,
 "nbformat_minor": 5
}
