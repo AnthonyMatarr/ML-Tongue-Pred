{
 "cells": [
  {
   "cell_type": "markdown",
   "id": "ab8b8079",
   "metadata": {},
   "source": [
    "# Build Stacked Generalization Ensemble Model"
   ]
  },
  {
   "cell_type": "markdown",
   "id": "57ae01cb",
   "metadata": {},
   "source": [
    "Import packages/libraries"
   ]
  },
  {
   "cell_type": "code",
   "execution_count": null,
   "id": "dea8c135",
   "metadata": {},
   "outputs": [],
   "source": [
    "import sys\n",
    "import warnings\n",
    "\n",
    "sys.path.append(\"../\")\n",
    "from src.data_utils import get_data, get_models\n",
    "from src.config import SEED, BASE_PATH, DEVICE\n",
    "from src.nn_models import load_nn_clf\n",
    "\n",
    "import joblib\n",
    "from sklearn.ensemble import StackingClassifier\n",
    "from sklearn.linear_model import LogisticRegression\n",
    "from sklearn.model_selection import StratifiedKFold\n",
    "from sklearn.metrics import roc_auc_score"
   ]
  },
  {
   "cell_type": "markdown",
   "id": "e00e45f5",
   "metadata": {},
   "source": [
    "## Import Data + Models"
   ]
  },
  {
   "cell_type": "markdown",
   "id": "9c705043",
   "metadata": {},
   "source": [
    "Set Globals"
   ]
  },
  {
   "cell_type": "code",
   "execution_count": null,
   "id": "0ccc8589",
   "metadata": {},
   "outputs": [],
   "source": [
    "MODEL_DIR = BASE_PATH / \"models\"\n",
    "# Data\n",
    "OUTCOME_DICT = {\n",
    "    \"surg\": get_data(\"outcome_surg\"),\n",
    "    \"bleed\": get_data(\"outcome_bleed\"),\n",
    "    \"asp\": get_data(\"outcome_asp\"),\n",
    "    \"mort\": get_data(\"outcome_mort\"),\n",
    "}\n",
    "# Models\n",
    "# Models\n",
    "model_prefix_list = [\"lr\", \"lgbm\", \"svc\"]\n",
    "##Can use any X df for input dimension, all = # of features\n",
    "nn_in_dim = OUTCOME_DICT[\"surg\"][\"X_train\"].shape[1]\n",
    "\n",
    "MODEL_DICT = {}\n",
    "for outcome in OUTCOME_DICT.keys():\n",
    "    MODEL_DICT[outcome] = get_models(model_prefix_list, outcome)\n",
    "    nn_dir = MODEL_DIR / outcome / \"nn.pt\"\n",
    "    MODEL_DICT[outcome][\"nn\"] = load_nn_clf(\n",
    "        data_path=nn_dir, in_dim=nn_in_dim, device=DEVICE\n",
    "    )"
   ]
  },
  {
   "cell_type": "markdown",
   "id": "ab3592f4",
   "metadata": {},
   "source": [
    "## Build Model"
   ]
  },
  {
   "cell_type": "code",
   "execution_count": null,
   "id": "02fe2f6f",
   "metadata": {},
   "outputs": [],
   "source": [
    "for outcome_name, model_dict in MODEL_DICT.items():\n",
    "    print(f\"Working on: {outcome_name}...\")\n",
    "\n",
    "    ### Fit Stack Model ###\n",
    "    X_train = OUTCOME_DICT[outcome_name][\"X_train\"]\n",
    "    y_train = OUTCOME_DICT[outcome_name][\"y_train\"]\n",
    "    skf = StratifiedKFold(n_splits=5, shuffle=True, random_state=SEED)\n",
    "    estimators = list(model_dict.items())\n",
    "    stack_model = StackingClassifier(\n",
    "        estimators=estimators,\n",
    "        cv=skf,\n",
    "        final_estimator=LogisticRegression(random_state=SEED),\n",
    "    )\n",
    "    stack_model.fit(X_train, y_train.values.ravel())\n",
    "\n",
    "    ### Export Model ####\n",
    "    model_export_path = MODEL_DIR / outcome_name / \"stack.joblib\"\n",
    "    if model_export_path.exists():\n",
    "        warnings.warn(f\"Over-writing models at path: {model_export_path}\")\n",
    "        model_export_path.unlink()\n",
    "    joblib.dump(stack_model, model_export_path)\n",
    "\n",
    "    ### Prelim results ###\n",
    "    # Train\n",
    "    train_proba = stack_model.predict_proba(X_train)[:, 1]  # type: ignore\n",
    "    train_score = roc_auc_score(y_train, train_proba)\n",
    "    # Val\n",
    "    X_val = OUTCOME_DICT[outcome_name][\"X_val\"]\n",
    "    y_val = OUTCOME_DICT[outcome_name][\"y_val\"]\n",
    "    val_proba = stack_model.predict_proba(X_val)[:, 1]  # type: ignore\n",
    "    val_score = roc_auc_score(y_val, val_proba)\n",
    "\n",
    "    print(f\"Train AUROC: \\t{train_score:.3f}\")\n",
    "    print(f\"Val AUROC: \\t{val_score:.3f}\")"
   ]
  }
 ],
 "metadata": {
  "kernelspec": {
   "display_name": "ml-tongue-pred",
   "language": "python",
   "name": "python3"
  },
  "language_info": {
   "codemirror_mode": {
    "name": "ipython",
    "version": 3
   },
   "file_extension": ".py",
   "mimetype": "text/x-python",
   "name": "python",
   "nbconvert_exporter": "python",
   "pygments_lexer": "ipython3",
   "version": "3.12.11"
  }
 },
 "nbformat": 4,
 "nbformat_minor": 5
}
