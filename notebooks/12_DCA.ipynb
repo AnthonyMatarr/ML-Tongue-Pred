{
 "cells": [
  {
   "cell_type": "markdown",
   "id": "a6e4efc0",
   "metadata": {},
   "source": [
    "# Decision Curve Analysis"
   ]
  },
  {
   "cell_type": "code",
   "execution_count": null,
   "id": "25470713",
   "metadata": {},
   "outputs": [],
   "source": [
    "import sys\n",
    "import warnings\n",
    "\n",
    "sys.path.append(\"../\")\n",
    "from src.data_utils import get_data, get_models\n",
    "from src.config import BASE_PATH\n",
    "\n",
    "import matplotlib.pyplot as plt\n",
    "from statkit.decision import NetBenefitDisplay\n",
    "import pandas as pd"
   ]
  },
  {
   "cell_type": "markdown",
   "id": "f8e60d22",
   "metadata": {},
   "source": [
    "Set Globals"
   ]
  },
  {
   "cell_type": "code",
   "execution_count": null,
   "id": "af851285",
   "metadata": {},
   "outputs": [],
   "source": [
    "RESULT_PATH = BASE_PATH / \"results\" / \"figures\" / \"DCA\"\n",
    "## Data\n",
    "OUTCOME_DICT = {\n",
    "    \"surg\": get_data(\"outcome_surg\"),\n",
    "    \"bleed\": get_data(\"outcome_bleed\"),\n",
    "    \"asp\": get_data(\"outcome_asp\"),\n",
    "    \"mort\": get_data(\"outcome_mort\"),\n",
    "}\n",
    "\n",
    "## Models\n",
    "model_dir = BASE_PATH / \"cal_models\"\n",
    "model_prefix_list = [\"lr\", \"lgbm\", \"svc\", \"stack\", \"nn\"]\n",
    "MODEL_DICT = {}\n",
    "for outcome in OUTCOME_DICT.keys():\n",
    "    MODEL_DICT[outcome] = get_models(model_prefix_list, outcome, model_dir)\n",
    "\n",
    "COLOR_LIST = [\n",
    "    \"tab:blue\",\n",
    "    \"tab:orange\",\n",
    "    \"tab:green\",\n",
    "    \"tab:purple\",\n",
    "    \"tab:red\",\n",
    "    \"tab:olive\",\n",
    "    \"tab:pink\",\n",
    "    \"tab:gray\",\n",
    "    \"tab:olive\",\n",
    "]"
   ]
  },
  {
   "cell_type": "code",
   "execution_count": null,
   "id": "ca5a06d4",
   "metadata": {},
   "outputs": [],
   "source": [
    "for outcome_name, outcome_data in OUTCOME_DICT.items():\n",
    "    X_test = outcome_data[\"X_test\"]\n",
    "    y_test = outcome_data[\"y_test\"].values.ravel()\n",
    "    cur_model_dict = MODEL_DICT[outcome_name]\n",
    "\n",
    "    model_names = list(cur_model_dict.keys())\n",
    "    models = list(cur_model_dict.values())\n",
    "\n",
    "    plt.figure(figsize=(10, 8))\n",
    "    ax = plt.gca()\n",
    "    for (model_name, model), color in zip(cur_model_dict.items(), COLOR_LIST):\n",
    "        y_proba = model.predict_proba(X_test)[:, 1]\n",
    "\n",
    "        NetBenefitDisplay.from_predictions(\n",
    "            y_true=y_test,\n",
    "            y_pred=y_proba,\n",
    "            name=model_name,\n",
    "            ax=ax,\n",
    "        )\n",
    "    lines = [line for line in ax.get_lines() if line.get_label() in model_names]\n",
    "    for line, color in zip(lines, COLOR_LIST):\n",
    "        line.set_color(color)\n",
    "\n",
    "    # Get all handles and labels\n",
    "    handles, labels = ax.get_legend_handles_labels()\n",
    "    by_label = dict(zip(labels, handles))  # Remove duplicates\n",
    "\n",
    "    # # Separate baselines from models\n",
    "    baseline_labels = [\"Always act\", \"Never act\", \"Oracle\"]\n",
    "    model_labels = [name for name in model_names if name in by_label]\n",
    "\n",
    "    # # Models first, then baselines\n",
    "    ordered_labels = model_labels + baseline_labels\n",
    "\n",
    "    # # Create ordered handles and labels\n",
    "    ordered_handles = [by_label[label] for label in ordered_labels if label in by_label]\n",
    "    final_labels = [label for label in ordered_labels if label in by_label]\n",
    "\n",
    "    ax.legend(ordered_handles, final_labels, loc=\"upper right\")\n",
    "\n",
    "    plt.title(f\"DCA: Model Comparison for {outcome_name}\")\n",
    "    plt.ylim(-0.05, 0.125)\n",
    "    save_path = RESULT_PATH / f\"{outcome_name}.pdf\"\n",
    "    if save_path.exists():\n",
    "        warnings.warn(\n",
    "            f\"Over-writing DCA for outcome {outcome_name} at path {save_path}\"\n",
    "        )\n",
    "    save_path.parent.mkdir(exist_ok=True, parents=True)\n",
    "    plt.savefig(save_path, bbox_inches=\"tight\")\n",
    "    plt.show()"
   ]
  }
 ],
 "metadata": {
  "kernelspec": {
   "display_name": "ml-tongue-pred",
   "language": "python",
   "name": "python3"
  },
  "language_info": {
   "codemirror_mode": {
    "name": "ipython",
    "version": 3
   },
   "file_extension": ".py",
   "mimetype": "text/x-python",
   "name": "python",
   "nbconvert_exporter": "python",
   "pygments_lexer": "ipython3",
   "version": "3.12.11"
  }
 },
 "nbformat": 4,
 "nbformat_minor": 5
}
